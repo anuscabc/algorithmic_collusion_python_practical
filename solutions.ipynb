{
 "cells": [
  {
   "cell_type": "markdown",
   "metadata": {},
   "source": [
    "\n",
    "## Introduction to Algorithmic Collusion\n",
    "\n",
    "## Background\n",
    "The Netherlands Authority for Consumers and Markets (ACM) is an antitrust authority. Its primary goal is to ensure fair competition and protect consumers from anticompetitive practices. With the rise of artificial intelligence (AI) and machine learning, a new challenge has emerged: algorithmic collusion. This phenomenon occurs when algorithms, designed to optimize pricing strategies, inadvertently or deliberately engage in collusive behaviour, leading to supra-competitive prices. \n",
    "\n",
    "## Understanding Algorithmic Collusion\n",
    "Algorithmic collusion refers to the situation where pricing algorithms, often used by companies to set prices dynamically, result in higher prices than in traditional competition. Unlike human collusion, where firms explicitly agree to fix prices, algorithmic collusion can occur without any direct communication between firms. Instead, it arises from the algorithms' learning processes and their responses to market conditions. \n",
    "The outcomes of theoretical simulations of early studies reported in e.g. Calvano et al. (2020) and Klein (2021) have generated algorithmic collusion. Recently, Xavier Lambin  and co-authors have challenged these results and attributed algorithmic collusion to the simultaneous setup of the simulations, see e.g. Abada and Lambin (2023) and Lambin (2024). **The aim of this project is to use a simplified market to test these results and show when algorithmic collusion appears.** Complete all exercises in this Jupyter Notebook before starting your report. You have to hand in this assignment via Canvas, in addition to your final paper. \n",
    "\n",
    "\n"
   ]
  },
  {
   "cell_type": "markdown",
   "metadata": {},
   "source": [
    "## PART 0. Market Setup\n",
    "To get started recall concepts from your Mathmatical Economics 1 course. \n",
    "\n",
    "Consider two firms (1 and 2) that produce homogenous products. Demand for each product is defined by the following function: \n",
    "\n",
    "$$ q_{1, t} = a - bp_{1, t} + dp_{2, t}$$\n",
    "\n",
    "$$ q_{2, t} = a - bp_{2, t} + dp_{1, t}$$\n",
    "\n",
    "\n",
    "We assume firms are self-interested profit maximizers. They will choose prices such that they maximize their profits. \n",
    "\n",
    "Using the demand equations above, the profit each firm earns is given by: \n",
    "\n",
    "$$ \\pi_{1, t} = (p_{1, t} - c) q_{1, t}$$\n",
    "\n",
    "$$ \\pi_{2, t} = (p_{2, t} - c) q_{2, t}$$\n",
    "\n",
    "The two firms meet in the market each period and can interact in different ways. \n",
    "\n",
    "\n",
    "\n",
    "In this part of the assignment we are going to start with our simulation environment. To create our simulation we will use object-oriented programming. Please before continuing with the assignment, if this concept is new for you, watch the following Youtube video (https://www.youtube.com/watch?v=JeznW_7DlB0). "
   ]
  },
  {
   "cell_type": "code",
   "execution_count": 1,
   "metadata": {},
   "outputs": [],
   "source": [
    "## Exercise 0.1 Import the following modules. \n",
    "import numpy as np\n",
    "from scipy.optimize import minimize\n",
    "from scipy.optimize import root\n",
    "import random "
   ]
  },
  {
   "cell_type": "code",
   "execution_count": null,
   "metadata": {},
   "outputs": [],
   "source": [
    "##  Exercise 0.2 Complete the Market class with the correct formulas from above "
   ]
  },
  {
   "cell_type": "code",
   "execution_count": 18,
   "metadata": {},
   "outputs": [],
   "source": [
    "class Market():\n",
    "\n",
    "    '''\n",
    "    Define the market with 2 firms.\n",
    "\n",
    "\n",
    "    Note: In this code we account for the time dimmentions. This is not relevant \n",
    "    for the first two parts. The results will be the same each period, therefore \n",
    "    the attribute is initialized to 1. \n",
    "    '''\n",
    "\n",
    "    def __init__(self, \n",
    "                 number_of_firms=2, \n",
    "                 number_of_periods=1):\n",
    "\n",
    "        self.number_of_firms = number_of_firms\n",
    "        self.number_of_periods = number_of_periods\n",
    "\n",
    "        # Demand parameters\n",
    "        self.A = 2\n",
    "        self.b = 0.9   # own-price effect\n",
    "        self.d = 0.4   # cross-price effect\n",
    "        self.c = 0.5   # constant marginal cost\n",
    "\n",
    "        self.price = np.zeros((self.number_of_firms, self.number_of_periods))\n",
    "        self.quantity = np.zeros((self.number_of_firms, self.number_of_periods))\n",
    "        self.profits = np.zeros((self.number_of_firms, self.number_of_periods))\n",
    "\n",
    "\n",
    "    def firm1_demand(self, p1, p2):\n",
    "\n",
    "        # Complete the function \n",
    "        return self.A - self.b * p1 + self.d * p2\n",
    "\n",
    "    def firm2_demand(self, p1, p2):\n",
    "        # Complete the function \n",
    "        return self.A - self.b * p2 + self.d * p1\n",
    "\n",
    "    def firm1_profit(self, p1, p2):\n",
    "        # Complete the function\n",
    "        q1 = self.firm1_demand(p1, p2)\n",
    "        return (p1 - self.c) * q1\n",
    "\n",
    "    def firm2_profit(self, p1, p2):\n",
    "        # Complete the function\n",
    "        q2 = self.firm2_demand(p1, p2)\n",
    "        return (p2 - self.c) * q2\n",
    "    "
   ]
  },
  {
   "cell_type": "markdown",
   "metadata": {},
   "source": [
    "## PART 1. Bertrand-Nash Equilibrium \n",
    "\n",
    "If firms strategically compete in prices in the market, they will try to best respond to the prices set by the other firm. \n",
    "\n",
    "This can be done both analytically and numerically. We will do both. To compute the Nash-Bertrand (NB)\n",
    "equilibrium in prices we assume each firm sets its price to maximize profit, taking the other firm’s price as given."
   ]
  },
  {
   "cell_type": "markdown",
   "metadata": {},
   "source": [
    "## Exercise 1.1 \n",
    "\n",
    "Compute the Nash Betrand Equilibirum analytically (refer to the Mathematical Economics 1 course): \n",
    "\n",
    "Complete all equations here. \n",
    "\n",
    "1. Set up the first order condition for firm 1 \n",
    "\n",
    "$$ \\max_{p_{1, t}} (p_{1, t} - c) q_{1, t} $$\n",
    "\n",
    "$$ \\frac{d\\pi_1}{d p_{1, t}} =  \\ldots $$\n",
    "2. Set up the first order condition for firm 2 \n",
    "\n",
    "$$ \\max_{p_{2, t}} (p_{2, t} - c) q_{2, t} $$\n",
    "\n",
    "$$ \\frac{d\\pi_2}{d p_{2, t}} =  \\ldots $$\n",
    "\n",
    "\n",
    "3. Solve the system of equations resulted from step 1 and step 2\n",
    "\n",
    "$$ \\ldots $$\n",
    "\n",
    "\n",
    "Equilibiurm prices, quantities and profits: \n",
    "\n",
    "$$ \\ldots $$\n"
   ]
  },
  {
   "cell_type": "code",
   "execution_count": 16,
   "metadata": {},
   "outputs": [],
   "source": [
    "\"\"\" \n",
    "Exercise 1.2\n",
    "\n",
    "Write down a child class that computes:\n",
    "\n",
    "1. the analytical formulas \n",
    "2. the numerical Nash equilibrium for the Bertrand competition model directly from the first order conditions.\n",
    "\n",
    "\n",
    "The class should inherit from the Market class.\n",
    "## The class should have the following methods:\n",
    "## - __init__: initializes the class with the number of firms and periods.\n",
    "## - compute_analytical_equilibrium: computes the analytical Nash equilibrium.\n",
    "## - compute_equilibrium_numerical: computes the numerical Nash equilibrium using the scipy.optimize.root function.\n",
    "\n",
    "Print your solutions. \n",
    "The analytical and numerical solutions should be the same. \n",
    "\n",
    "\"\"\"\n",
    "\n",
    "\n",
    "\n",
    "class Nash_Betrand(Market): \n",
    "    '''\n",
    "    Nash-Bertrand competition class under symmetric linear demand.\n",
    "\n",
    "    '''\n",
    "    def __init__(self, \n",
    "                 number_of_firms=2, \n",
    "                 number_of_periods=1):\n",
    "        super().__init__(number_of_firms, number_of_periods)\n",
    "\n",
    "    def compute_analytical_equilibrium(self):\n",
    "\n",
    "        p1_star  = (self.A + self.b * self.c) / (2 * self.b - self.d)\n",
    "        p2_star  = (self.A + self.b * self.c) / (2 * self.b - self.d)\n",
    "\n",
    "        q1_star = self.firm1_demand(p1_star, p2_star)\n",
    "        q2_star = self.firm2_demand(p1_star, p2_star)\n",
    "\n",
    "        pi1_star = self.firm1_profit(p1_star, p2_star)\n",
    "        pi2_star = self.firm2_profit(p1_star, p2_star)\n",
    "\n",
    "        for t in range(self.number_of_periods):\n",
    "            self.price[:, t] = [p1_star, p2_star]\n",
    "            self.quantity[:, t] = [q1_star, q2_star]\n",
    "            self.profits[:, t] = [pi1_star, pi2_star]\n",
    "\n",
    "        return self.price, self.quantity, self.profits\n",
    "\n",
    "    def compute_equilibrium_numerical(self):\n",
    "        \n",
    "        def foc_system(prices):\n",
    "            p1, p2 = prices\n",
    "            A, b, d, c = self.A, self.b, self.d, self.c\n",
    "\n",
    "            q1 = A - b*p1 + d*p2\n",
    "            dq1_dp1 = -b\n",
    "            dpi1_dp1 = q1 + (p1 - c) * dq1_dp1\n",
    "\n",
    "            q2 = A - b*p2 + d*p1\n",
    "            dq2_dp2 = -b\n",
    "            dpi2_dp2 = q2 + (p2 - c) * dq2_dp2\n",
    "\n",
    "            return [dpi1_dp1, dpi2_dp2]\n",
    "\n",
    "\n",
    "        for t in range(self.number_of_periods):\n",
    "\n",
    "            initial_guess = [2.0, 2.0]\n",
    "            sol = root(foc_system, initial_guess)\n",
    "\n",
    "            if not sol.success:\n",
    "                raise RuntimeError(\"Failed to find Nash equilibrium.\")\n",
    "\n",
    "            p1_star, p2_star = sol.x\n",
    "            q1_star = self.firm1_demand(p1_star, p2_star)\n",
    "            q2_star = self.firm2_demand(p1_star, p2_star)\n",
    "            pi1_star = self.firm1_profit(p1_star, p2_star)\n",
    "            pi2_star = self.firm2_profit(p1_star, p2_star)\n",
    "            self.price[:, t] = [p1_star, p2_star]\n",
    "            self.quantity[:, t] = [q1_star, q2_star]\n",
    "            self.profits[:, t] = [pi1_star, pi2_star]\n",
    "\n",
    "        return self.price, self.quantity, self.profits"
   ]
  },
  {
   "cell_type": "code",
   "execution_count": 19,
   "metadata": {},
   "outputs": [
    {
     "name": "stdout",
     "output_type": "stream",
     "text": [
      "(array([[1.75],\n",
      "       [1.75]]), array([[1.125],\n",
      "       [1.125]]), array([[1.40625],\n",
      "       [1.40625]]))\n",
      "(array([[1.75],\n",
      "       [1.75]]), array([[1.125],\n",
      "       [1.125]]), array([[1.40625],\n",
      "       [1.40625]]))\n"
     ]
    }
   ],
   "source": [
    "\"\"\"\n",
    "\n",
    "Exercise 1.3\n",
    "\n",
    "Show your two solutions.\n",
    "\n",
    "\"\"\"\n",
    "\n",
    "nash_market = Nash_Betrand()\n",
    "result = nash_market.compute_analytical_equilibrium()\n",
    "print(result)\n",
    "result_numerical = nash_market.compute_equilibrium_numerical()\n",
    "print(result_numerical)"
   ]
  },
  {
   "cell_type": "markdown",
   "metadata": {},
   "source": [
    "## Part 2: Collusion\n",
    "\n",
    "We consider a collusion scenario where the two firms split monopoly profit equally. \n",
    "\n",
    "A monopolist would serve the market by maximizing total demand: \n",
    "\n",
    "$$ \\pi_m  = (p_m - c) Q(p_m) $$\n",
    "\n",
    "Where $Q(p_m)$ is the total market demand as determined by the previous equations. "
   ]
  },
  {
   "cell_type": "markdown",
   "metadata": {},
   "source": [
    "## Exercise 2.1 \n",
    "\n",
    "Analitically determine the monopolist price, quantity and profits: \n",
    "\n",
    "    ...\n",
    "    "
   ]
  },
  {
   "cell_type": "code",
   "execution_count": 5,
   "metadata": {},
   "outputs": [],
   "source": [
    "\"\"\" \n",
    "Exercise 2.2\n",
    "\n",
    "Write down a child class that computes:\n",
    "\n",
    "1. the analytical formulas \n",
    "2. the numerical solution for collusive outcome using the first order condition.\n",
    "\n",
    "\n",
    "The class should inherit from the Market class.\n",
    "## The class should have the following methods:\n",
    "## - __init__: initializes the class with the number of firms and periods.\n",
    "## - compute_analytical_equilibrium: computes the analytical solution\n",
    "## - compute_equilibrium_numerical: computes the numerical solution using the scipy.optimize.minimize function.\n",
    "\n",
    "Print your solutions. \n",
    "The analytical and numerical solutions should be the same. \n",
    "\n",
    "\"\"\"\n",
    "\n",
    "\n",
    "class Collusion(Market):\n",
    "    '''\n",
    "    Collusion model where both firms act as a monopolist and equally share profit.\n",
    "    '''\n",
    "    def __init__(self, number_of_firms=2, number_of_periods=1):\n",
    "        super().__init__(number_of_firms, number_of_periods)\n",
    "\n",
    "    def compute_analytical_equilibrium(self):\n",
    "\n",
    "        p_star = (self.A + self.c*(self.b-self.d))/(2*(self.b-self.d))\n",
    "        p1_star = p2_star = p_star\n",
    "\n",
    "        q1_star = self.firm1_demand(p1_star, p2_star)\n",
    "        q2_star = self.firm2_demand(p1_star, p2_star)\n",
    "        \n",
    "        pi1_star = self.firm1_profit(p1_star, p2_star)\n",
    "        pi2_star = self.firm2_profit(p1_star, p2_star)\n",
    "\n",
    "        for t in range(self.number_of_periods):\n",
    "            self.price[:, t] = [p1_star, p2_star]\n",
    "            self.quantity[:, t] = [q1_star, q2_star]\n",
    "            self.profits[:, t] = [pi1_star, pi2_star]\n",
    "\n",
    "        return self.price, self.quantity, self.profits\n",
    "\n",
    "    def compute_equilibrium_numerical(self):\n",
    "        def joint_profit(prices):\n",
    "            p1, p2 = prices\n",
    "            q1 = self.firm1_demand(p1, p2)\n",
    "            q2 = self.firm2_demand(p1, p2)\n",
    "            pi_total = (p1 - self.c) * q1 + (p2 - self.c) * q2\n",
    "            return -pi_total  \n",
    "        \n",
    "        for t in range(self.number_of_periods):\n",
    "            initial_guess = [2.0, 2.0] \n",
    "            \n",
    "            sol = minimize(joint_profit, initial_guess, method='BFGS')\n",
    "            if not sol.success:\n",
    "                raise RuntimeError(\"Numerical maximization failed.\")\n",
    "\n",
    "            p1_star, p2_star = sol.x\n",
    "            q1_star = self.firm1_demand(p1_star, p2_star)\n",
    "            q2_star = self.firm2_demand(p1_star, p2_star)\n",
    "            pi_total = (p1_star - self.c) * q1_star + (p2_star - self.c) * q2_star\n",
    "\n",
    "            self.price[:, t] = [p1_star, p2_star]\n",
    "            self.quantity[:, t] = [q1_star, q2_star]\n",
    "            self.profits[:, t] = [pi_total/2, pi_total/2]\n",
    "\n",
    "        return self.price, self.quantity, self.profits"
   ]
  },
  {
   "cell_type": "code",
   "execution_count": 21,
   "metadata": {},
   "outputs": [
    {
     "name": "stdout",
     "output_type": "stream",
     "text": [
      "(array([[2.25],\n",
      "       [2.25]]), array([[0.875],\n",
      "       [0.875]]), array([[1.53125],\n",
      "       [1.53125]]))\n",
      "(array([[2.25],\n",
      "       [2.25]]), array([[0.875],\n",
      "       [0.875]]), array([[1.53125],\n",
      "       [1.53125]]))\n"
     ]
    }
   ],
   "source": [
    "\"\"\"\n",
    "\n",
    "Exercise 1.3\n",
    "\n",
    "Show your two solutions.\n",
    "\n",
    "\"\"\"\n",
    "\n",
    "col_market= Collusion()\n",
    "result = col_market.compute_analytical_equilibrium()\n",
    "print(result)\n",
    "result_numerical = col_market.compute_equilibrium_numerical()\n",
    "print(result_numerical)"
   ]
  },
  {
   "cell_type": "markdown",
   "metadata": {},
   "source": [
    "## Part 3: Q-learning Collusion\n",
    "\n",
    "See lecture slides, notes and articles for a detailed explanation of Q learning. \n",
    "You have to understand and prepare before your proceed further. \n"
   ]
  },
  {
   "cell_type": "markdown",
   "metadata": {},
   "source": [
    "\n",
    "## Exercise 3.1 \n",
    "\n",
    "Q-Learning models were developped for single-agent situations. To get acquinted with these algorithms, you first study the monopolist setting. \n",
    "\n",
    "The aim is that you play around with algorithm's parameters, in particular $\\alpha$, $\\gamma$ and $\\epsilon$ from the q-formula: \n",
    "\n",
    "You have to present 3 graphs of the:\n",
    "\n",
    "1.price \n",
    "\n",
    "2.quantity demanded \n",
    "\n",
    "3.profit \n",
    "\n",
    "evolution of the monopolist over time, as the agents learn. \n",
    "\n",
    "You are free to implement this as you see fit. However, you need to justify your method. \n",
    "\n"
   ]
  },
  {
   "cell_type": "code",
   "execution_count": null,
   "metadata": {},
   "outputs": [],
   "source": [
    "'''\n",
    "\n",
    "Your Q-learning Monopolist algorithm\n",
    "\n",
    "'''"
   ]
  },
  {
   "cell_type": "code",
   "execution_count": null,
   "metadata": {},
   "outputs": [],
   "source": [
    "'''\n",
    "\n",
    "Code for plotting the results\n",
    "\n",
    "'''"
   ]
  },
  {
   "cell_type": "markdown",
   "metadata": {},
   "source": [
    "## Your explanation here (minimum 200 - maximum 250 words).\n",
    "Be clear and explicit, relate to your code.  "
   ]
  },
  {
   "cell_type": "markdown",
   "metadata": {},
   "source": [
    "## Exercise 3.2\n",
    "\n",
    "Here, you consider the multi-agent case of two firms, each performing Q-Learning. A novel aspect is how each firm has to take into account the competitor's price. \n",
    "\n",
    "The aim is that you play around with your intuition as well as with the algorithm's parameters ($\\alpha$, $\\gamma$ and $\\epsilon$). Both \n",
    "firms have the same parameters for $\\alpha$, $\\gamma$ and $\\epsilon$ for this exercise. \n",
    "\n",
    "You have to present 3 graphs of the:\n",
    "\n",
    "1.price \n",
    "\n",
    "2.quantity demanded\n",
    " \n",
    "3.profit \n",
    "\n",
    "evolution of the monopolist over time, as the agents learn. \n",
    "\n",
    "You are free to implement this as you see fit. However, you need to justify your method. \n"
   ]
  },
  {
   "cell_type": "code",
   "execution_count": null,
   "metadata": {},
   "outputs": [],
   "source": [
    "'''\n",
    "\n",
    "Your Q-learning Monopolist algorithm\n",
    "\n",
    "'''"
   ]
  },
  {
   "cell_type": "code",
   "execution_count": null,
   "metadata": {},
   "outputs": [],
   "source": [
    "'''\n",
    "\n",
    "Code for plotting the results\n",
    "\n",
    "'''"
   ]
  },
  {
   "cell_type": "markdown",
   "metadata": {},
   "source": [
    "## Your explanation here (minimum 200 - maximum 250 words).\n",
    "Be clear and explicit, relate to your code.  "
   ]
  },
  {
   "cell_type": "code",
   "execution_count": 10,
   "metadata": {},
   "outputs": [],
   "source": [
    "class QLearningMarket(Market):\n",
    "    def __init__(self, number_of_firms=2, number_of_periods=5000, alpha=0.01, gamma=0.95, epsilon=0.1, grid_size=40):\n",
    "        super().__init__(number_of_firms, number_of_periods)\n",
    "\n",
    "        self.alpha = alpha\n",
    "        self.gamma = gamma\n",
    "        self.epsilon = epsilon\n",
    "\n",
    "        self.nash_price = (self.A + self.b * self.c) / (2 * self.b - self.d)\n",
    "        self.collusive_price = (self.A + (self.b - self.d) * self.c) / (2 * (self.b - self.d))\n",
    "\n",
    "        # Create price grid\n",
    "        self.price_grid = np.linspace(self.nash_price, self.collusive_price, grid_size)\n",
    "        self.grid_size = grid_size\n",
    "\n",
    "        # Q-tables: firm i learns Q[a_i, a_j] (joint-action values)\n",
    "        self.Q = [np.zeros((grid_size, grid_size)) for _ in range(self.number_of_firms)]\n",
    "\n",
    "    def choose_action(self, firm, opponent_action):\n",
    "        if np.random.rand() < self.epsilon:\n",
    "            return np.random.randint(self.grid_size)  \n",
    "        else:\n",
    "            return np.argmax(self.Q[firm][:, opponent_action])  \n",
    "\n",
    "    def compute_q_learning_equilibrium(self):\n",
    "        # Initialize previous actions arbitrarily\n",
    "        last_actions = [0, 0]\n",
    "\n",
    "        for t in range(self.number_of_periods):\n",
    "            # Firms choose actions based on last opponent action\n",
    "            a0 = self.choose_action(0, last_actions[1])\n",
    "            a1 = self.choose_action(1, last_actions[0])\n",
    "            actions = [a0, a1]\n",
    "            prices = [self.price_grid[a0], self.price_grid[a1]]\n",
    "\n",
    "            q1 = self.firm1_demand(prices[0], prices[1])\n",
    "            q2 = self.firm2_demand(prices[0], prices[1])\n",
    "            pi1 = (prices[0] - self.c) * q1\n",
    "            pi2 = (prices[1] - self.c) * q2\n",
    "            rewards = [pi1, pi2]\n",
    "\n",
    "            self.price[:, t] = prices\n",
    "            self.quantity[:, t] = [q1, q2]\n",
    "            self.profits[:, t] = [pi1, pi2]\n",
    "\n",
    "            max_q0_next = np.max(self.Q[0][:, a1])\n",
    "            max_q1_next = np.max(self.Q[1][:, a0])\n",
    "\n",
    "            self.Q[0][a0, a1] += self.alpha * (pi1 + self.gamma * max_q0_next - self.Q[0][a0, a1])\n",
    "            self.Q[1][a1, a0] += self.alpha * (pi2 + self.gamma * max_q1_next - self.Q[1][a1, a0])\n",
    "\n",
    "            last_actions = actions\n",
    "\n",
    "            self.epsilon = max(0.01, self.epsilon * 0.999)\n",
    "\n",
    "        return self.price, self.quantity, self.profits"
   ]
  },
  {
   "cell_type": "code",
   "execution_count": 11,
   "metadata": {},
   "outputs": [],
   "source": [
    "\n",
    "\n",
    "market = QLearningMarket(number_of_periods=100000)\n",
    "prices, _, _ = market.compute_q_learning_equilibrium()"
   ]
  },
  {
   "cell_type": "code",
   "execution_count": 12,
   "metadata": {},
   "outputs": [
    {
     "data": {
      "image/png": "[encoded data removed]",
      "text/plain": [
       "<Figure size 640x480 with 1 Axes>"
      ]
     },
     "metadata": {},
     "output_type": "display_data"
    }
   ],
   "source": [
    "import matplotlib.pyplot as plt\n",
    "\n",
    "plt.plot(prices[0], label=\"Firm 1 Price\")\n",
    "plt.plot(prices[1], label=\"Firm 2 Price\")\n",
    "plt.axhline(market.nash_price, linestyle=\"--\", color=\"gray\", label=\"Nash\")\n",
    "plt.axhline(market.collusive_price, linestyle=\"--\", color=\"red\", label=\"Collusive\")\n",
    "plt.title(\"Q-learning Price Evolution\")\n",
    "plt.xlabel(\"Time\")\n",
    "plt.ylabel(\"Price\")\n",
    "plt.legend()\n",
    "plt.grid(True)\n",
    "plt.tight_layout()\n",
    "plt.show()"
   ]
  },
  {
   "cell_type": "code",
   "execution_count": 13,
   "metadata": {},
   "outputs": [
    {
     "data": {
      "image/png": "[encoded data removed]",
      "text/plain": [
       "<Figure size 1000x500 with 1 Axes>"
      ]
     },
     "metadata": {},
     "output_type": "display_data"
    }
   ],
   "source": [
    "import matplotlib.pyplot as plt\n",
    "\n",
    "# Compute average profit per period across the two firms\n",
    "avg_profit = np.mean(market.profits, axis=0)\n",
    "\n",
    "# Plot\n",
    "plt.figure(figsize=(10, 5))\n",
    "plt.plot(avg_profit, label=\"Average Profit\", color='green')\n",
    "plt.title(\"Average Profit per Period (Q-learning)\")\n",
    "plt.xlabel(\"Time Period\")\n",
    "plt.ylabel(\"Average Profit\")\n",
    "plt.grid(True)\n",
    "plt.legend()\n",
    "plt.tight_layout()\n",
    "plt.show()"
   ]
  },
  {
   "cell_type": "markdown",
   "metadata": {},
   "source": [
    "## You have to use the results from this Jupyter Nontebook for your report and presentation. \n",
    "## You are free to add any extensions you see fit (example: asymmetric firms, different demand, different cost strucutre etc)\n",
    "\n",
    "\n",
    "## Good luck! "
   ]
  },
  {
   "cell_type": "markdown",
   "metadata": {},
   "source": [
    "References\n",
    "\n",
    "Abada, Ibrahim and Xavier Lambin. 2023. Artificial Intelligence: Can Seemingly Collusive Outcomes Be Avoided? Management Science 69 (9): 5042-5065. DOI: 10.1287/mnsc.2022.4623\n",
    "\n",
    "Calvano, Emilio, Giacomo Calzolari, Vincenzo Denicolò, and Sergio Pastorello. 2020. \"Artificial Intelligence, Algorithmic Pricing, and Collusion.\" American Economic Review 110 (10): 3267–97. DOI: 10.1257/aer.20190623\n",
    "\n",
    "Klein, Timo. 2021. “Autonomous algorithmic collusion: Q-learning under sequential pricing.” RAND Journal of Economics 52 (3): 538-558. DOI: 10.1111/1756-2171.12383\n",
    "\n",
    "Lambin, Xavier. 2024. Less than meets the eye: simultaneous experiments as a source of algorithmic seeming collusion. Available at SSRN: https://ssrn.com/abstract=4498926 or http://dx.doi.org/10.2139/ssrn.4498926\n"
   ]
  },
  {
   "cell_type": "markdown",
   "metadata": {},
   "source": [
    "Assignment developed by Harold Houba and Ana Popovici"
   ]
  }
 ],
 "metadata": {
  "kernelspec": {
   "display_name": "Python 3",
   "language": "python",
   "name": "python3"
  },
  "language_info": {
   "codemirror_mode": {
    "name": "ipython",
    "version": 3
   },
   "file_extension": ".py",
   "mimetype": "text/x-python",
   "name": "python",
   "nbconvert_exporter": "python",
   "pygments_lexer": "ipython3",
   "version": "3.9.6"
  }
 },
 "nbformat": 4,
 "nbformat_minor": 2
}
